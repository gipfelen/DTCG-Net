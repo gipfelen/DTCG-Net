{
 "cells": [
  {
   "cell_type": "code",
   "execution_count": 10,
   "id": "south-cowboy",
   "metadata": {},
   "outputs": [],
   "source": [
    "import open3d as o3d\n",
    "import matplotlib.pyplot as plt\n",
    "import scipy.io\n",
    "import numpy as np\n",
    "from glob import glob\n",
    "import os\n",
    "import tqdm"
   ]
  },
  {
   "cell_type": "code",
   "execution_count": 11,
   "id": "golden-marriage",
   "metadata": {},
   "outputs": [],
   "source": [
    "def rgbd_to_pointcloud(rgb_path, depth_path, label_path):\n",
    "\n",
    "    color_raw = o3d.io.read_image(rgb_path)\n",
    "    depth_raw = o3d.io.read_image(depth_path)\n",
    "    mat_labels = scipy.io.loadmat(label_path)\n",
    "\n",
    "    labels = mat_labels['gt_label']\n",
    "    color_np_image = np.array(color_raw)\n",
    "    depth_np_image = np.array(depth_raw)\n",
    "    shape = color_np_image.shape\n",
    "\n",
    "    for i in range(shape[0]):\n",
    "        for j in range(shape[1]):\n",
    "            if labels[i][j] == 0:\n",
    "                depth_np_image[i][j] = 0\n",
    "            color_np_image[i][j] = (labels[i][j],labels[i][j],labels[i][j])\n",
    "\n",
    "    color_raw = o3d.geometry.Image(color_np_image)\n",
    "    depth_raw = o3d.geometry.Image(depth_np_image)\n",
    "\n",
    "    rgbd_image = o3d.geometry.RGBDImage.create_from_color_and_depth(\n",
    "        color_raw, depth_raw)\n",
    "\n",
    "    pcd = o3d.geometry.PointCloud.create_from_rgbd_image(\n",
    "        rgbd_image,\n",
    "        o3d.camera.PinholeCameraIntrinsic(\n",
    "            o3d.camera.PinholeCameraIntrinsicParameters.PrimeSenseDefault))\n",
    "    # Flip it, otherwise the pointcloud will be upside down\n",
    "    pcd.transform([[1, 0, 0, 0], [0, -1, 0, 0], [0, 0, -1, 0], [0, 0, 0, 1]])\n",
    "    \n",
    "    return pcd"
   ]
  },
  {
   "cell_type": "code",
   "execution_count": 14,
   "id": "packed-drain",
   "metadata": {},
   "outputs": [],
   "source": [
    "def save_pcd_to_file(pcd, output_dataset_folder, class_label, class_id, object_id):\n",
    "    \n",
    "    class_folder_path = f'{output_dataset_folder}/{class_label}'\n",
    "    if not os.path.exists(class_folder_path):\n",
    "        os.makedirs(class_folder_path)\n",
    "        os.makedirs(f'{class_folder_path}/points')\n",
    "        os.makedirs(f'{class_folder_path}/points_label')\n",
    "        \n",
    "    with open(f'{class_folder_path}/points/{class_id}{object_id}.pts', \"w\") as file_points:\n",
    "        with open(f'{class_folder_path}/points_label/{class_id}{object_id}.seg', \"w\") as file_labels:\n",
    "            for point, label in zip(pcd.points,pcd.colors):\n",
    "                label = round(label[0]*255)\n",
    "                file_points.write(\"{} {} {}\\n\".format(point[0],point[1],point[2]))\n",
    "                file_labels.write(\"{}\\n\".format(label))"
   ]
  },
  {
   "cell_type": "code",
   "execution_count": null,
   "id": "social-longitude",
   "metadata": {},
   "outputs": [],
   "source": []
  },
  {
   "cell_type": "code",
   "execution_count": 15,
   "id": "vulnerable-generic",
   "metadata": {},
   "outputs": [
    {
     "name": "stderr",
     "output_type": "stream",
     "text": [
      "  0%|          | 0/105 [00:00<?, ?it/s]\n",
      "  0%|          | 0/306 [00:00<?, ?it/s]\u001b[A\n",
      "  0%|          | 1/306 [00:00<04:31,  1.12it/s]\u001b[A\n",
      "  1%|          | 2/306 [00:01<04:34,  1.11it/s]\u001b[A\n",
      "  1%|          | 3/306 [00:02<04:28,  1.13it/s]\u001b[A\n",
      "  1%|▏         | 4/306 [00:03<04:25,  1.14it/s]\u001b[A\n",
      "  2%|▏         | 5/306 [00:04<04:23,  1.14it/s]\u001b[A\n",
      "  2%|▏         | 6/306 [00:05<04:23,  1.14it/s]\u001b[A\n",
      "  2%|▏         | 7/306 [00:06<04:23,  1.14it/s]\u001b[A\n",
      "  3%|▎         | 8/306 [00:07<04:19,  1.15it/s]\u001b[A\n",
      "  3%|▎         | 9/306 [00:07<04:18,  1.15it/s]\u001b[A\n",
      "  3%|▎         | 10/306 [00:08<04:17,  1.15it/s]\u001b[A\n",
      "  4%|▎         | 11/306 [00:09<04:15,  1.15it/s]\u001b[A\n",
      "  4%|▍         | 12/306 [00:10<04:14,  1.15it/s]\u001b[A\n",
      "  4%|▍         | 13/306 [00:11<04:14,  1.15it/s]\u001b[A\n",
      "  5%|▍         | 14/306 [00:12<04:13,  1.15it/s]\u001b[A\n",
      "  5%|▍         | 15/306 [00:13<04:11,  1.16it/s]\u001b[A\n",
      "  5%|▌         | 16/306 [00:13<04:09,  1.16it/s]\u001b[A\n",
      "  6%|▌         | 17/306 [00:14<04:08,  1.16it/s]\u001b[A\n",
      "  6%|▌         | 18/306 [00:15<04:07,  1.16it/s]\u001b[A\n",
      "  6%|▌         | 19/306 [00:16<04:09,  1.15it/s]\u001b[A\n",
      "  7%|▋         | 20/306 [00:17<04:12,  1.13it/s]\u001b[A\n",
      "  7%|▋         | 21/306 [00:18<04:10,  1.14it/s]\u001b[A\n",
      "  7%|▋         | 22/306 [00:19<04:07,  1.15it/s]\u001b[A\n",
      "  8%|▊         | 23/306 [00:20<04:09,  1.13it/s]\u001b[A\n",
      "  8%|▊         | 24/306 [00:20<04:07,  1.14it/s]\u001b[A\n",
      "  8%|▊         | 25/306 [00:21<04:06,  1.14it/s]\u001b[A\n",
      "  8%|▊         | 26/306 [00:22<04:04,  1.14it/s]\u001b[A\n",
      "  9%|▉         | 27/306 [00:23<04:02,  1.15it/s]\u001b[A\n",
      "  0%|          | 0/105 [00:23<?, ?it/s]         \u001b[A\n"
     ]
    },
    {
     "ename": "KeyboardInterrupt",
     "evalue": "",
     "output_type": "error",
     "traceback": [
      "\u001b[0;31m---------------------------------------------------------------------------\u001b[0m",
      "\u001b[0;31mKeyboardInterrupt\u001b[0m                         Traceback (most recent call last)",
      "\u001b[0;32m<ipython-input-15-0a7da65bbe08>\u001b[0m in \u001b[0;36m<module>\u001b[0;34m\u001b[0m\n\u001b[1;32m     13\u001b[0m         \u001b[0mdepth_path\u001b[0m \u001b[0;34m=\u001b[0m \u001b[0mlabel_path\u001b[0m\u001b[0;34m[\u001b[0m\u001b[0;34m:\u001b[0m\u001b[0;34m-\u001b[0m\u001b[0;36m9\u001b[0m\u001b[0;34m]\u001b[0m\u001b[0;34m+\u001b[0m\u001b[0;34m'depth.png'\u001b[0m\u001b[0;34m\u001b[0m\u001b[0m\n\u001b[1;32m     14\u001b[0m         \u001b[0mrgb_path\u001b[0m \u001b[0;34m=\u001b[0m \u001b[0mlabel_path\u001b[0m\u001b[0;34m[\u001b[0m\u001b[0;34m:\u001b[0m\u001b[0;34m-\u001b[0m\u001b[0;36m9\u001b[0m\u001b[0;34m]\u001b[0m\u001b[0;34m+\u001b[0m\u001b[0;34m'rgb.jpg'\u001b[0m\u001b[0;34m\u001b[0m\u001b[0m\n\u001b[0;32m---> 15\u001b[0;31m         \u001b[0mpcd\u001b[0m \u001b[0;34m=\u001b[0m \u001b[0mrgbd_to_pointcloud\u001b[0m\u001b[0;34m(\u001b[0m\u001b[0mrgb_path\u001b[0m\u001b[0;34m,\u001b[0m \u001b[0mdepth_path\u001b[0m\u001b[0;34m,\u001b[0m \u001b[0mlabel_path\u001b[0m\u001b[0;34m)\u001b[0m\u001b[0;34m\u001b[0m\u001b[0m\n\u001b[0m\u001b[1;32m     16\u001b[0m         \u001b[0msave_pcd_to_file\u001b[0m\u001b[0;34m(\u001b[0m\u001b[0mpcd\u001b[0m\u001b[0;34m,\u001b[0m \u001b[0moutput_dataset_folder\u001b[0m\u001b[0;34m,\u001b[0m \u001b[0mclass_label\u001b[0m\u001b[0;34m,\u001b[0m \u001b[0mclass_id\u001b[0m\u001b[0;34m,\u001b[0m \u001b[0mobject_id\u001b[0m\u001b[0;34m)\u001b[0m\u001b[0;34m\u001b[0m\u001b[0m\n\u001b[1;32m     17\u001b[0m \u001b[0;34m\u001b[0m\u001b[0m\n",
      "\u001b[0;32m<ipython-input-11-3463af373cfe>\u001b[0m in \u001b[0;36mrgbd_to_pointcloud\u001b[0;34m(rgb_path, depth_path, label_path)\u001b[0m\n\u001b[1;32m     12\u001b[0m     \u001b[0;32mfor\u001b[0m \u001b[0mi\u001b[0m \u001b[0;32min\u001b[0m \u001b[0mrange\u001b[0m\u001b[0;34m(\u001b[0m\u001b[0mshape\u001b[0m\u001b[0;34m[\u001b[0m\u001b[0;36m0\u001b[0m\u001b[0;34m]\u001b[0m\u001b[0;34m)\u001b[0m\u001b[0;34m:\u001b[0m\u001b[0;34m\u001b[0m\u001b[0m\n\u001b[1;32m     13\u001b[0m         \u001b[0;32mfor\u001b[0m \u001b[0mj\u001b[0m \u001b[0;32min\u001b[0m \u001b[0mrange\u001b[0m\u001b[0;34m(\u001b[0m\u001b[0mshape\u001b[0m\u001b[0;34m[\u001b[0m\u001b[0;36m1\u001b[0m\u001b[0;34m]\u001b[0m\u001b[0;34m)\u001b[0m\u001b[0;34m:\u001b[0m\u001b[0;34m\u001b[0m\u001b[0m\n\u001b[0;32m---> 14\u001b[0;31m             \u001b[0;32mif\u001b[0m \u001b[0mlabels\u001b[0m\u001b[0;34m[\u001b[0m\u001b[0mi\u001b[0m\u001b[0;34m]\u001b[0m\u001b[0;34m[\u001b[0m\u001b[0mj\u001b[0m\u001b[0;34m]\u001b[0m \u001b[0;34m==\u001b[0m \u001b[0;36m0\u001b[0m\u001b[0;34m:\u001b[0m\u001b[0;34m\u001b[0m\u001b[0m\n\u001b[0m\u001b[1;32m     15\u001b[0m                 \u001b[0mdepth_np_image\u001b[0m\u001b[0;34m[\u001b[0m\u001b[0mi\u001b[0m\u001b[0;34m]\u001b[0m\u001b[0;34m[\u001b[0m\u001b[0mj\u001b[0m\u001b[0;34m]\u001b[0m \u001b[0;34m=\u001b[0m \u001b[0;36m0\u001b[0m\u001b[0;34m\u001b[0m\u001b[0m\n\u001b[1;32m     16\u001b[0m             \u001b[0mcolor_np_image\u001b[0m\u001b[0;34m[\u001b[0m\u001b[0mi\u001b[0m\u001b[0;34m]\u001b[0m\u001b[0;34m[\u001b[0m\u001b[0mj\u001b[0m\u001b[0;34m]\u001b[0m \u001b[0;34m=\u001b[0m \u001b[0;34m(\u001b[0m\u001b[0mlabels\u001b[0m\u001b[0;34m[\u001b[0m\u001b[0mi\u001b[0m\u001b[0;34m]\u001b[0m\u001b[0;34m[\u001b[0m\u001b[0mj\u001b[0m\u001b[0;34m]\u001b[0m\u001b[0;34m,\u001b[0m\u001b[0mlabels\u001b[0m\u001b[0;34m[\u001b[0m\u001b[0mi\u001b[0m\u001b[0;34m]\u001b[0m\u001b[0;34m[\u001b[0m\u001b[0mj\u001b[0m\u001b[0;34m]\u001b[0m\u001b[0;34m,\u001b[0m\u001b[0mlabels\u001b[0m\u001b[0;34m[\u001b[0m\u001b[0mi\u001b[0m\u001b[0;34m]\u001b[0m\u001b[0;34m[\u001b[0m\u001b[0mj\u001b[0m\u001b[0;34m]\u001b[0m\u001b[0;34m)\u001b[0m\u001b[0;34m\u001b[0m\u001b[0m\n",
      "\u001b[0;31mKeyboardInterrupt\u001b[0m: "
     ]
    }
   ],
   "source": [
    "output_dataset_folder = \"new_dataset\"\n",
    "if os.path.exists(output_dataset_folder):\n",
    "     os.rmdir(output_dataset_folder)\n",
    "os.makedirs(output_dataset_folder)\n",
    "\n",
    "\n",
    "for path in tqdm.tqdm(glob(\"dataset/part-affordance-dataset/tools/*\")):\n",
    "    for label_path in tqdm.tqdm(glob(f\"{path}/*label.mat\"), leave=False):\n",
    "        s = label_path.split('/')[4].split('_')\n",
    "        class_label = s[0]\n",
    "        class_id = s[1]\n",
    "        object_id = s[2]\n",
    "        depth_path = label_path[:-9]+'depth.png'\n",
    "        rgb_path = label_path[:-9]+'rgb.jpg'\n",
    "        pcd = rgbd_to_pointcloud(rgb_path, depth_path, label_path)\n",
    "        save_pcd_to_file(pcd, output_dataset_folder, class_label, class_id, object_id)\n",
    "\n"
   ]
  },
  {
   "cell_type": "code",
   "execution_count": null,
   "id": "quick-explanation",
   "metadata": {},
   "outputs": [],
   "source": []
  }
 ],
 "metadata": {
  "kernelspec": {
   "display_name": "masterThesis",
   "language": "python",
   "name": "masterthesis"
  },
  "language_info": {
   "codemirror_mode": {
    "name": "ipython",
    "version": 3
   },
   "file_extension": ".py",
   "mimetype": "text/x-python",
   "name": "python",
   "nbconvert_exporter": "python",
   "pygments_lexer": "ipython3",
   "version": "3.7.0"
  }
 },
 "nbformat": 4,
 "nbformat_minor": 5
}
