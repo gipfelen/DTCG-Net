{
 "cells": [
  {
   "cell_type": "code",
   "execution_count": 51,
   "id": "portuguese-honey",
   "metadata": {},
   "outputs": [],
   "source": [
    "from glob import glob\n",
    "import os\n",
    "import json\n",
    "import numpy as np\n",
    "from sklearn.model_selection import ShuffleSplit\n",
    "\n",
    "dataset_path = \"../dataset/affordances\""
   ]
  },
  {
   "cell_type": "code",
   "execution_count": 54,
   "id": "wanted-imperial",
   "metadata": {},
   "outputs": [],
   "source": [
    "def split_category(category_path, train_set, val_set, test_set):\n",
    "    dataset = [obj for obj in glob(f'{category_path}/points/*.pts')]\n",
    "    if len(dataset) == 0: return\n",
    "    rs = ShuffleSplit(n_splits=1, test_size=.25, random_state=0)\n",
    "    \n",
    "    for train_index, test_index in rs.split(dataset):\n",
    "        tmp_set = [f'{category_path}{dataset[idx][:-4].split(\"/\")[-1]}' for idx in test_index]\n",
    "        train_set += [f'{category_path}{dataset[idx][:-4].split(\"/\")[-1]}' for idx in train_index]\n",
    "        val_set += tmp_set[:len(tmp_set)//2]\n",
    "        test_set += tmp_set[len(tmp_set)//2:]\n",
    "            \n",
    "def save_to_json(path, dataset_split):\n",
    "    with open(path, \"w\") as f:\n",
    "        json.dump(dataset_split, f)"
   ]
  },
  {
   "cell_type": "code",
   "execution_count": 55,
   "id": "forty-vintage",
   "metadata": {},
   "outputs": [],
   "source": [
    "train_set = []\n",
    "val_set = []\n",
    "test_set = []\n",
    "for category in glob(f'{dataset_path}/*/'):\n",
    "    split_category(category, train_set, val_set, test_set)\n",
    "    \n",
    "save_to_json(f'{dataset_path}/shuffled_test_file_list.json', train_set)\n",
    "save_to_json(f'{dataset_path}/shuffled_train_file_list.json', test_set)\n",
    "save_to_json(f'{dataset_path}/shuffled_val_file_list.json', val_set)"
   ]
  },
  {
   "cell_type": "code",
   "execution_count": null,
   "id": "designing-roads",
   "metadata": {},
   "outputs": [],
   "source": []
  },
  {
   "cell_type": "code",
   "execution_count": null,
   "id": "tamil-alliance",
   "metadata": {},
   "outputs": [],
   "source": []
  }
 ],
 "metadata": {
  "kernelspec": {
   "display_name": "masterThesis",
   "language": "python",
   "name": "masterthesis"
  },
  "language_info": {
   "codemirror_mode": {
    "name": "ipython",
    "version": 3
   },
   "file_extension": ".py",
   "mimetype": "text/x-python",
   "name": "python",
   "nbconvert_exporter": "python",
   "pygments_lexer": "ipython3",
   "version": "3.7.0"
  }
 },
 "nbformat": 4,
 "nbformat_minor": 5
}
