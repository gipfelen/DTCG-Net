{
 "cells": [
  {
   "cell_type": "code",
   "execution_count": 2,
   "id": "secret-measure",
   "metadata": {},
   "outputs": [],
   "source": [
    "import open3d as o3d\n",
    "import matplotlib.pyplot as plt\n",
    "import scipy.io\n",
    "import numpy as np\n",
    "from glob import glob\n",
    "import os\n",
    "import tqdm"
   ]
  },
  {
   "cell_type": "code",
   "execution_count": 3,
   "id": "valuable-chapter",
   "metadata": {},
   "outputs": [],
   "source": [
    "def rgbd_to_pointcloud(rgb_path, depth_path, label_path):\n",
    "\n",
    "    color_raw = o3d.io.read_image(rgb_path)\n",
    "    depth_raw = o3d.io.read_image(depth_path)\n",
    "    mat_labels = scipy.io.loadmat(label_path)\n",
    "\n",
    "    labels = mat_labels['gt_label']\n",
    "    color_np_image = np.array(color_raw)\n",
    "    depth_np_image = np.array(depth_raw)\n",
    "    shape = color_np_image.shape\n",
    "\n",
    "    for i in range(shape[0]):\n",
    "        for j in range(shape[1]):\n",
    "            if labels[i][j] == 0:\n",
    "                depth_np_image[i][j] = 0\n",
    "            color_np_image[i][j] = (labels[i][j],labels[i][j],labels[i][j])\n",
    "\n",
    "    color_raw = o3d.geometry.Image(color_np_image)\n",
    "    depth_raw = o3d.geometry.Image(depth_np_image)\n",
    "\n",
    "    rgbd_image = o3d.geometry.RGBDImage.create_from_color_and_depth(\n",
    "        color_raw, depth_raw)\n",
    "\n",
    "    pcd = o3d.geometry.PointCloud.create_from_rgbd_image(\n",
    "        rgbd_image,\n",
    "        o3d.camera.PinholeCameraIntrinsic(\n",
    "            o3d.camera.PinholeCameraIntrinsicParameters.PrimeSenseDefault))\n",
    "    # Flip it, otherwise the pointcloud will be upside down\n",
    "    pcd.transform([[1, 0, 0, 0], [0, -1, 0, 0], [0, 0, -1, 0], [0, 0, 0, 1]])\n",
    "    \n",
    "    return pcd"
   ]
  },
  {
   "cell_type": "code",
   "execution_count": 4,
   "id": "divine-quick",
   "metadata": {},
   "outputs": [],
   "source": [
    "def save_pcd_to_file(pcd, output_dataset_folder, class_label, class_id, object_id):\n",
    "    \n",
    "    class_folder_path = f'{output_dataset_folder}/{class_label}'\n",
    "    if not os.path.exists(class_folder_path):\n",
    "        os.makedirs(class_folder_path)\n",
    "        os.makedirs(f'{class_folder_path}/points')\n",
    "        os.makedirs(f'{class_folder_path}/points_label')\n",
    "        \n",
    "    with open(f'{class_folder_path}/points/{class_id}{object_id}.pts', \"w\") as file_points:\n",
    "        with open(f'{class_folder_path}/points_label/{class_id}{object_id}.seg', \"w\") as file_labels:\n",
    "            for point, label in zip(pcd.points,pcd.colors):\n",
    "                label = round(label[0]*255)\n",
    "                file_points.write(\"{} {} {}\\n\".format(point[0],point[1],point[2]))\n",
    "                file_labels.write(\"{}\\n\".format(label))"
   ]
  },
  {
   "cell_type": "code",
   "execution_count": null,
   "id": "ordinary-kazakhstan",
   "metadata": {},
   "outputs": [],
   "source": []
  },
  {
   "cell_type": "code",
   "execution_count": 1,
   "id": "major-magazine",
   "metadata": {},
   "outputs": [
    {
     "ename": "NameError",
     "evalue": "name 'os' is not defined",
     "output_type": "error",
     "traceback": [
      "\u001b[0;31m---------------------------------------------------------------------------\u001b[0m",
      "\u001b[0;31mNameError\u001b[0m                                 Traceback (most recent call last)",
      "\u001b[0;32m<ipython-input-1-37ad01e86fac>\u001b[0m in \u001b[0;36m<module>\u001b[0;34m\u001b[0m\n\u001b[1;32m      1\u001b[0m \u001b[0moutput_dataset_folder\u001b[0m \u001b[0;34m=\u001b[0m \u001b[0;34m\"new_dataset\"\u001b[0m\u001b[0;34m\u001b[0m\u001b[0m\n\u001b[0;32m----> 2\u001b[0;31m \u001b[0;32mif\u001b[0m \u001b[0mos\u001b[0m\u001b[0;34m.\u001b[0m\u001b[0mpath\u001b[0m\u001b[0;34m.\u001b[0m\u001b[0mexists\u001b[0m\u001b[0;34m(\u001b[0m\u001b[0moutput_dataset_folder\u001b[0m\u001b[0;34m)\u001b[0m\u001b[0;34m:\u001b[0m\u001b[0;34m\u001b[0m\u001b[0m\n\u001b[0m\u001b[1;32m      3\u001b[0m      \u001b[0mos\u001b[0m\u001b[0;34m.\u001b[0m\u001b[0mrmdir\u001b[0m\u001b[0;34m(\u001b[0m\u001b[0moutput_dataset_folder\u001b[0m\u001b[0;34m)\u001b[0m\u001b[0;34m\u001b[0m\u001b[0m\n\u001b[1;32m      4\u001b[0m \u001b[0mos\u001b[0m\u001b[0;34m.\u001b[0m\u001b[0mmakedirs\u001b[0m\u001b[0;34m(\u001b[0m\u001b[0moutput_dataset_folder\u001b[0m\u001b[0;34m)\u001b[0m\u001b[0;34m\u001b[0m\u001b[0m\n\u001b[1;32m      5\u001b[0m \u001b[0;34m\u001b[0m\u001b[0m\n",
      "\u001b[0;31mNameError\u001b[0m: name 'os' is not defined"
     ]
    }
   ],
   "source": [
    "output_dataset_folder = \"new_dataset\"\n",
    "if os.path.exists(output_dataset_folder):\n",
    "     os.rmdir(output_dataset_folder)\n",
    "os.makedirs(output_dataset_folder)\n",
    "\n",
    "\n",
    "for path in tqdm.tqdm(glob(\"dataset/part-affordance-dataset/tools/*\")):\n",
    "    for label_path in glob(f\"{path}/*label.mat\"):\n",
    "        s = label_path.split('/')[4].split('_')\n",
    "        class_label = s[0]\n",
    "        class_id = s[1]\n",
    "        object_id = s[2]\n",
    "        depth_path = label_path[:-9]+'depth.png'\n",
    "        rgb_path = label_path[:-9]+'rgb.jpg'\n",
    "        pcd = rgbd_to_pointcloud(rgb_path, depth_path, label_path)\n",
    "        save_pcd_to_file(pcd, output_dataset_folder, class_label, class_id, object_id)\n",
    "\n"
   ]
  },
  {
   "cell_type": "code",
   "execution_count": null,
   "id": "reported-munich",
   "metadata": {},
   "outputs": [],
   "source": []
  }
 ],
 "metadata": {
  "kernelspec": {
   "display_name": "masterThesis",
   "language": "python",
   "name": "masterthesis"
  },
  "language_info": {
   "codemirror_mode": {
    "name": "ipython",
    "version": 3
   },
   "file_extension": ".py",
   "mimetype": "text/x-python",
   "name": "python",
   "nbconvert_exporter": "python",
   "pygments_lexer": "ipython3",
   "version": "3.7.0"
  }
 },
 "nbformat": 4,
 "nbformat_minor": 5
}
